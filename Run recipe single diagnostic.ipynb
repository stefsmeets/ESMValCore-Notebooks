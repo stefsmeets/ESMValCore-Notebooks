{
 "cells": [
  {
   "cell_type": "markdown",
   "metadata": {},
   "source": [
    "# Running a specific diagnostic in a notebook\n",
    "\n",
    "The goal of this notebook is to expand the functionality to run recipes directly from the notebook. Specifically, it demonstrates the API to list, run, and re-run a specific diagnostic in a notebook.\n",
    "\n",
    "See associated PR here: https://github.com/ESMValGroup/ESMValCore/pull/962"
   ]
  },
  {
   "cell_type": "code",
   "execution_count": 1,
   "metadata": {},
   "outputs": [],
   "source": [
    "%load_ext autoreload\n",
    "%autoreload 2"
   ]
  },
  {
   "cell_type": "code",
   "execution_count": 2,
   "metadata": {},
   "outputs": [
    {
     "name": "stderr",
     "output_type": "stream",
     "text": [
      "/home/stef/r/esmvalcore/esmvalcore/experimental/_warnings.py:18: UserWarning: \n",
      "  Thank you for trying out the new ESMValCore API.\n",
      "  Note that this API is experimental and may be subject to change.\n",
      "  More info: https://github.com/ESMValGroup/ESMValCore/issues/498\n",
      "/home/stef/r/esmvalcore/esmvalcore/experimental/config/_config_validators.py:254: ESMValToolDeprecationWarning: `write_plots` will be removed in 2.2.0.\n",
      "/home/stef/r/esmvalcore/esmvalcore/experimental/config/_config_validators.py:255: ESMValToolDeprecationWarning: `write_netcdf` will be removed in 2.2.0.\n",
      "/home/stef/r/esmvalcore/esmvalcore/experimental/config/_config_validators.py:256: ESMValToolDeprecationWarning: `output_file_type` will be removed in 2.2.0.\n"
     ]
    }
   ],
   "source": [
    "from esmvalcore.experimental import CFG"
   ]
  },
  {
   "cell_type": "markdown",
   "metadata": {},
   "source": [
    "## Getting a recipe\n",
    "\n",
    "Recipes can be obtained by their name, similar to what one may already be familiar with through `esmvaltool recipes list`. To do so, use `get_recipe`."
   ]
  },
  {
   "cell_type": "code",
   "execution_count": 3,
   "metadata": {},
   "outputs": [
    {
     "data": {
      "text/markdown": [
       "## Recipe python\n",
       "\n",
       "Example recipe that plots a map and timeseries of temperature.\n",
       "\n",
       "### Authors\n",
       " - Bouwe Andela (NLeSC, Netherlands; https://orcid.org/0000-0001-9005-8940)\n",
       " - Mattia Righi (DLR, Germany; https://orcid.org/0000-0003-3827-5950)\n",
       "\n",
       "### Maintainers\n",
       " - Manuel Schlund (DLR, Germany; https://orcid.org/0000-0001-5251-0158)\n",
       "\n",
       "### Projects\n",
       " - DLR project ESMVal\n",
       " - Copernicus Climate Change Service 34a Lot 2 (MAGIC) project\n",
       "\n",
       "### References\n",
       " - Please acknowledge the project\\(s\\)\\.\n"
      ],
      "text/plain": [
       "Recipe('Recipe python')"
      ]
     },
     "execution_count": 3,
     "metadata": {},
     "output_type": "execute_result"
    }
   ],
   "source": [
    "from esmvalcore.experimental import get_recipe, CFG\n",
    "\n",
    "recipe = get_recipe('examples/recipe_python.yml')\n",
    "recipe"
   ]
  },
  {
   "cell_type": "markdown",
   "metadata": {},
   "source": [
    "## Running a single diagnostic\n",
    "\n",
    "This recipe contains 5 tasks:\n",
    "\n",
    "Preprocessors:\n",
    "- `timeseries/tas_amsterdam`\n",
    "- `timeseries/script1`\n",
    "- `map/tas`\n",
    "\n",
    "Diagnostics:\n",
    "- `timeseries/tas_global`\n",
    "- `map/script1`\n",
    "\n",
    "To run a single preprocessor, specify the name of the task as an argument in `.run`. For example, to run the `map/script1` diagnostic only:"
   ]
  },
  {
   "cell_type": "code",
   "execution_count": 4,
   "metadata": {
    "scrolled": false
   },
   "outputs": [
    {
     "name": "stdout",
     "output_type": "stream",
     "text": [
      "{'auxiliary_data_dir': PosixPath('/home/stef/auxiliary_data'),\n",
      " 'compress_netcdf': False,\n",
      " 'config_developer_file': None,\n",
      " 'config_file': PosixPath('/home/stef/.esmvaltool/config-user.yml'),\n",
      " 'diagnostics': {'map/script1'},\n",
      " 'drs': {'CMIP5': 'default', 'CMIP6': 'default'},\n",
      " 'exit_on_warning': False,\n",
      " 'log_level': 'info',\n",
      " 'max_parallel_tasks': None,\n",
      " 'output_dir': PosixPath('/home/stef/esmvaltool_output'),\n",
      " 'output_file_type': 'png',\n",
      " 'plot_dir': PosixPath('/home/stef/esmvaltool_output/recipe_python_20210127_125039/plots'),\n",
      " 'preproc_dir': PosixPath('/home/stef/esmvaltool_output/recipe_python_20210127_125039/preproc'),\n",
      " 'profile_diagnostic': False,\n",
      " 'remove_preproc_dir': True,\n",
      " 'rootpath': {'CMIP5': [PosixPath('/home/stef/data')],\n",
      "              'CMIP6': [PosixPath('/home/stef/data'),\n",
      "                        PosixPath('/home/stef/r/esmvaltool_sample_data/esmvaltool_sample_data/data/timeseries/CMIP6')],\n",
      "              'default': [PosixPath('/home/stef/data')]},\n",
      " 'run_dir': PosixPath('/home/stef/esmvaltool_output/recipe_python_20210127_125039/run'),\n",
      " 'save_intermediary_cubes': False,\n",
      " 'work_dir': PosixPath('/home/stef/esmvaltool_output/recipe_python_20210127_125039/work'),\n",
      " 'write_netcdf': True,\n",
      " 'write_plots': True}\n",
      "Creating tasks from recipe\n",
      "Creating tasks for diagnostic map\n",
      "Creating preprocessor task map/tas\n",
      "Creating preprocessor 'select_january' task for variable 'tas'\n",
      "Using input files for variable tas of dataset BCC-ESM1:\n",
      "/home/stef/data/tas_Amon_BCC-ESM1_historical_r1i1p1f1_gn_185001-201412.nc\n",
      "Using input files for variable tas of dataset CanESM2:\n",
      "/home/stef/data/tas_Amon_CanESM2_historical_r1i1p1_185001-200512.nc\n",
      "PreprocessingTask map/tas created. It will create the files:\n",
      "/home/stef/esmvaltool_output/recipe_python_20210127_125039/preproc/map/tas/CMIP6_BCC-ESM1_Amon_historical_r1i1p1f1_tas_2000-2000.nc\n",
      "/home/stef/esmvaltool_output/recipe_python_20210127_125039/preproc/map/tas/CMIP5_CanESM2_Amon_historical_r1i1p1_tas_2000-2000.nc\n",
      "Creating diagnostic task map/script1\n",
      "Creating tasks for diagnostic timeseries\n",
      "Creating preprocessor task timeseries/tas_amsterdam\n",
      "Creating preprocessor 'annual_mean_amsterdam' task for variable 'tas'\n",
      "Using input files for variable tas of dataset BCC-ESM1:\n",
      "/home/stef/data/tas_Amon_BCC-ESM1_historical_r1i1p1f1_gn_185001-201412.nc\n",
      "Using input files for variable tas of dataset CanESM2:\n",
      "/home/stef/data/tas_Amon_CanESM2_historical_r1i1p1_185001-200512.nc\n",
      "PreprocessingTask timeseries/tas_amsterdam created. It will create the files:\n",
      "/home/stef/esmvaltool_output/recipe_python_20210127_125039/preproc/timeseries/tas_amsterdam/CMIP6_BCC-ESM1_Amon_historical_r1i1p1f1_tas_1850-2000.nc\n",
      "/home/stef/esmvaltool_output/recipe_python_20210127_125039/preproc/timeseries/tas_amsterdam/CMIP5_CanESM2_Amon_historical_r1i1p1_tas_1850-2000.nc\n",
      "Creating preprocessor task timeseries/tas_global\n",
      "Creating preprocessor 'annual_mean_global' task for variable 'tas'\n",
      "Using input files for variable tas of dataset BCC-ESM1:\n",
      "/home/stef/data/tas_Amon_BCC-ESM1_historical_r1i1p1f1_gn_185001-201412.nc\n",
      "Using input files for variable tas of dataset CanESM2:\n",
      "/home/stef/data/tas_Amon_CanESM2_historical_r1i1p1_185001-200512.nc\n",
      "PreprocessingTask timeseries/tas_global created. It will create the files:\n",
      "/home/stef/esmvaltool_output/recipe_python_20210127_125039/preproc/timeseries/tas_global/CMIP6_BCC-ESM1_Amon_historical_r1i1p1f1_tas_1850-2000.nc\n",
      "/home/stef/esmvaltool_output/recipe_python_20210127_125039/preproc/timeseries/tas_global/CMIP5_CanESM2_Amon_historical_r1i1p1_tas_1850-2000.nc\n",
      "Creating diagnostic task timeseries/script1\n",
      "These tasks will be executed: map/script1, map/tas\n",
      "Running 2 tasks using 2 processes\n",
      "Starting task map/tas in process [27695]\n",
      "Progress: 1 tasks running, 1 tasks waiting for ancestors, 0/2 done\n",
      "Successfully completed task map/tas (priority 0) in 0:00:07.633041\n",
      "Progress: 0 tasks running, 1 tasks waiting for ancestors, 1/2 done\n",
      "Starting task map/script1 in process [27696]\n",
      "Running command ['/home/stef/miniconda3/envs/esmvaltool/bin/python', '/home/stef/r/esmvaltool/esmvaltool/diag_scripts/examples/diagnostic.py', '/home/stef/esmvaltool_output/recipe_python_20210127_125039/run/map/script1/settings.yml']\n",
      "Writing output to /home/stef/esmvaltool_output/recipe_python_20210127_125039/work/map/script1\n",
      "Writing plots to /home/stef/esmvaltool_output/recipe_python_20210127_125039/plots/map/script1\n",
      "Writing log to /home/stef/esmvaltool_output/recipe_python_20210127_125039/run/map/script1/log.txt\n",
      "To re-run this diagnostic script, run:\n",
      "cd /home/stef/esmvaltool_output/recipe_python_20210127_125039/run/map/script1; MPLBACKEND=\"Agg\" /home/stef/miniconda3/envs/esmvaltool/bin/python /home/stef/r/esmvaltool/esmvaltool/diag_scripts/examples/diagnostic.py /home/stef/esmvaltool_output/recipe_python_20210127_125039/run/map/script1/settings.yml\n",
      "Progress: 1 tasks running, 0 tasks waiting for ancestors, 1/2 done\n",
      "Maximum memory used (estimate): 0.2 GB\n",
      "Sampled every second. It may be inaccurate if short but high spikes in memory consumption occur.\n",
      "Successfully completed task map/script1 (priority 1) in 0:00:04.553069\n",
      "Progress: 0 tasks running, 0 tasks waiting for ancestors, 2/2 done\n",
      "Successfully completed all tasks.\n"
     ]
    }
   ],
   "source": [
    "output = recipe.run(task='map/script1')"
   ]
  },
  {
   "cell_type": "code",
   "execution_count": 5,
   "metadata": {},
   "outputs": [
    {
     "data": {
      "text/plain": [
       "map/script1:\n",
       "  ImageFile('CMIP5_CanESM2_Amon_historical_r1i1p1_tas_2000-2000.png')\n",
       "  ImageFile('CMIP6_BCC-ESM1_Amon_historical_r1i1p1f1_tas_2000-2000.png')\n",
       "  DataFile('CMIP5_CanESM2_Amon_historical_r1i1p1_tas_2000-2000.nc')\n",
       "  DataFile('CMIP6_BCC-ESM1_Amon_historical_r1i1p1f1_tas_2000-2000.nc')"
      ]
     },
     "execution_count": 5,
     "metadata": {},
     "output_type": "execute_result"
    }
   ],
   "source": [
    "output"
   ]
  },
  {
   "cell_type": "markdown",
   "metadata": {},
   "source": [
    "Show the output:"
   ]
  },
  {
   "cell_type": "code",
   "execution_count": 6,
   "metadata": {},
   "outputs": [
    {
     "data": {
      "text/html": [
       "Average Near-Surface Air Temperature between 2000 and 2000 according to CanESM2.<img src='data:image/png;base64,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'/>"
      ],
      "text/plain": [
       "ImageFile('CMIP5_CanESM2_Amon_historical_r1i1p1_tas_2000-2000.png')"
      ]
     },
     "execution_count": 6,
     "metadata": {},
     "output_type": "execute_result"
    }
   ],
   "source": [
    "output['map/script1'].image_files[0]"
   ]
  },
  {
   "cell_type": "markdown",
   "metadata": {},
   "source": [
    "## Running a single preprocessor\n",
    "\n",
    "The API also makes it possible to run a single preprocessor, e.g. to just run the preprocessor to access the data for `map/script`, use:"
   ]
  },
  {
   "cell_type": "code",
   "execution_count": 7,
   "metadata": {},
   "outputs": [
    {
     "name": "stdout",
     "output_type": "stream",
     "text": [
      "{'auxiliary_data_dir': PosixPath('/home/stef/auxiliary_data'),\n",
      " 'compress_netcdf': False,\n",
      " 'config_developer_file': None,\n",
      " 'config_file': PosixPath('/home/stef/.esmvaltool/config-user.yml'),\n",
      " 'diagnostics': {'map/tas'},\n",
      " 'drs': {'CMIP5': 'default', 'CMIP6': 'default'},\n",
      " 'exit_on_warning': False,\n",
      " 'log_level': 'info',\n",
      " 'max_parallel_tasks': None,\n",
      " 'output_dir': PosixPath('/home/stef/esmvaltool_output'),\n",
      " 'output_file_type': 'png',\n",
      " 'plot_dir': PosixPath('/home/stef/esmvaltool_output/recipe_python_20210127_125052/plots'),\n",
      " 'preproc_dir': PosixPath('/home/stef/esmvaltool_output/recipe_python_20210127_125052/preproc'),\n",
      " 'profile_diagnostic': False,\n",
      " 'remove_preproc_dir': True,\n",
      " 'rootpath': {'CMIP5': [PosixPath('/home/stef/data')],\n",
      "              'CMIP6': [PosixPath('/home/stef/data'),\n",
      "                        PosixPath('/home/stef/r/esmvaltool_sample_data/esmvaltool_sample_data/data/timeseries/CMIP6')],\n",
      "              'default': [PosixPath('/home/stef/data')]},\n",
      " 'run_dir': PosixPath('/home/stef/esmvaltool_output/recipe_python_20210127_125052/run'),\n",
      " 'save_intermediary_cubes': False,\n",
      " 'work_dir': PosixPath('/home/stef/esmvaltool_output/recipe_python_20210127_125052/work'),\n",
      " 'write_netcdf': True,\n",
      " 'write_plots': True}\n",
      "Creating tasks from recipe\n",
      "Creating tasks for diagnostic map\n",
      "Creating preprocessor task map/tas\n",
      "Creating preprocessor 'select_january' task for variable 'tas'\n",
      "Using input files for variable tas of dataset BCC-ESM1:\n",
      "/home/stef/data/tas_Amon_BCC-ESM1_historical_r1i1p1f1_gn_185001-201412.nc\n",
      "Using input files for variable tas of dataset CanESM2:\n",
      "/home/stef/data/tas_Amon_CanESM2_historical_r1i1p1_185001-200512.nc\n",
      "PreprocessingTask map/tas created. It will create the files:\n",
      "/home/stef/esmvaltool_output/recipe_python_20210127_125052/preproc/map/tas/CMIP6_BCC-ESM1_Amon_historical_r1i1p1f1_tas_2000-2000.nc\n",
      "/home/stef/esmvaltool_output/recipe_python_20210127_125052/preproc/map/tas/CMIP5_CanESM2_Amon_historical_r1i1p1_tas_2000-2000.nc\n",
      "Creating diagnostic task map/script1\n",
      "Creating tasks for diagnostic timeseries\n",
      "Creating preprocessor task timeseries/tas_amsterdam\n",
      "Creating preprocessor 'annual_mean_amsterdam' task for variable 'tas'\n",
      "Using input files for variable tas of dataset BCC-ESM1:\n",
      "/home/stef/data/tas_Amon_BCC-ESM1_historical_r1i1p1f1_gn_185001-201412.nc\n",
      "Using input files for variable tas of dataset CanESM2:\n",
      "/home/stef/data/tas_Amon_CanESM2_historical_r1i1p1_185001-200512.nc\n",
      "PreprocessingTask timeseries/tas_amsterdam created. It will create the files:\n",
      "/home/stef/esmvaltool_output/recipe_python_20210127_125052/preproc/timeseries/tas_amsterdam/CMIP6_BCC-ESM1_Amon_historical_r1i1p1f1_tas_1850-2000.nc\n",
      "/home/stef/esmvaltool_output/recipe_python_20210127_125052/preproc/timeseries/tas_amsterdam/CMIP5_CanESM2_Amon_historical_r1i1p1_tas_1850-2000.nc\n",
      "Creating preprocessor task timeseries/tas_global\n",
      "Creating preprocessor 'annual_mean_global' task for variable 'tas'\n",
      "Using input files for variable tas of dataset BCC-ESM1:\n",
      "/home/stef/data/tas_Amon_BCC-ESM1_historical_r1i1p1f1_gn_185001-201412.nc\n",
      "Using input files for variable tas of dataset CanESM2:\n",
      "/home/stef/data/tas_Amon_CanESM2_historical_r1i1p1_185001-200512.nc\n",
      "PreprocessingTask timeseries/tas_global created. It will create the files:\n",
      "/home/stef/esmvaltool_output/recipe_python_20210127_125052/preproc/timeseries/tas_global/CMIP5_CanESM2_Amon_historical_r1i1p1_tas_1850-2000.nc\n",
      "/home/stef/esmvaltool_output/recipe_python_20210127_125052/preproc/timeseries/tas_global/CMIP6_BCC-ESM1_Amon_historical_r1i1p1f1_tas_1850-2000.nc\n",
      "Creating diagnostic task timeseries/script1\n",
      "These tasks will be executed: map/tas\n",
      "Running 1 tasks using 1 processes\n",
      "Starting task map/tas in process [27759]\n",
      "Progress: 1 tasks running, 0 tasks waiting for ancestors, 0/1 done\n",
      "Successfully completed task map/tas (priority 0) in 0:00:08.398409\n",
      "Progress: 0 tasks running, 0 tasks waiting for ancestors, 1/1 done\n",
      "Successfully completed all tasks.\n"
     ]
    }
   ],
   "source": [
    "output = recipe.run(task='map/tas')"
   ]
  },
  {
   "cell_type": "code",
   "execution_count": 8,
   "metadata": {},
   "outputs": [
    {
     "data": {
      "text/plain": [
       "map/tas:\n",
       "  DataFile('CMIP6_BCC-ESM1_Amon_historical_r1i1p1f1_tas_2000-2000.nc')\n",
       "  DataFile('CMIP5_CanESM2_Amon_historical_r1i1p1_tas_2000-2000.nc')"
      ]
     },
     "execution_count": 8,
     "metadata": {},
     "output_type": "execute_result"
    }
   ],
   "source": [
    "output"
   ]
  },
  {
   "cell_type": "code",
   "execution_count": 10,
   "metadata": {},
   "outputs": [
    {
     "data": {
      "text/html": [
       "\n",
       "<style>\n",
       "  a.iris {\n",
       "      text-decoration: none !important;\n",
       "  }\n",
       "  table.iris {\n",
       "      white-space: pre;\n",
       "      border: 1px solid;\n",
       "      border-color: #9c9c9c;\n",
       "      font-family: monaco, monospace;\n",
       "  }\n",
       "  th.iris {\n",
       "      background: #303f3f;\n",
       "      color: #e0e0e0;\n",
       "      border-left: 1px solid;\n",
       "      border-color: #9c9c9c;\n",
       "      font-size: 1.05em;\n",
       "      min-width: 50px;\n",
       "      max-width: 125px;\n",
       "  }\n",
       "  tr.iris :first-child {\n",
       "      border-right: 1px solid #9c9c9c !important;\n",
       "  }\n",
       "  td.iris-title {\n",
       "      background: #d5dcdf;\n",
       "      border-top: 1px solid #9c9c9c;\n",
       "      font-weight: bold;\n",
       "  }\n",
       "  .iris-word-cell {\n",
       "      text-align: left !important;\n",
       "      white-space: pre;\n",
       "  }\n",
       "  .iris-subheading-cell {\n",
       "      padding-left: 2em !important;\n",
       "  }\n",
       "  .iris-inclusion-cell {\n",
       "      padding-right: 1em !important;\n",
       "  }\n",
       "  .iris-panel-body {\n",
       "      padding-top: 0px;\n",
       "  }\n",
       "  .iris-panel-title {\n",
       "      padding-left: 3em;\n",
       "  }\n",
       "  .iris-panel-title {\n",
       "      margin-top: 7px;\n",
       "  }\n",
       "</style>\n",
       "<table class=\"iris\" id=\"140549254955312\">\n",
       "    <tr class=\"iris\">\n",
       "<th class=\"iris iris-word-cell\">Air Temperature (K)</th>\n",
       "<th class=\"iris iris-word-cell\">latitude</th>\n",
       "<th class=\"iris iris-word-cell\">longitude</th>\n",
       "</tr>\n",
       "    <tr class=\"iris\">\n",
       "<td class=\"iris-word-cell iris-subheading-cell\">Shape</td>\n",
       "<td class=\"iris iris-inclusion-cell\">64</td>\n",
       "<td class=\"iris iris-inclusion-cell\">128</td>\n",
       "</tr>\n",
       "    <tr class=\"iris\">\n",
       "    <td class=\"iris-title iris-word-cell\">Dimension coordinates</td>\n",
       "    <td class=\"iris-title\"></td>\n",
       "    <td class=\"iris-title\"></td>\n",
       "</tr>\n",
       "<tr class=\"iris\">\n",
       "    <td class=\"iris-word-cell iris-subheading-cell\">\tlatitude</td>\n",
       "    <td class=\"iris-inclusion-cell\">x</td>\n",
       "    <td class=\"iris-inclusion-cell\">-</td>\n",
       "</tr>\n",
       "<tr class=\"iris\">\n",
       "    <td class=\"iris-word-cell iris-subheading-cell\">\tlongitude</td>\n",
       "    <td class=\"iris-inclusion-cell\">-</td>\n",
       "    <td class=\"iris-inclusion-cell\">x</td>\n",
       "</tr>\n",
       "<tr class=\"iris\">\n",
       "    <td class=\"iris-title iris-word-cell\">Scalar coordinates</td>\n",
       "    <td class=\"iris-title\"></td>\n",
       "    <td class=\"iris-title\"></td>\n",
       "</tr>\n",
       "<tr class=\"iris\">\n",
       "    <td class=\"iris-word-cell iris-subheading-cell\">\theight</td>\n",
       "    <td class=\"iris-word-cell\" colspan=\"2\">2.0 m</td>\n",
       "</tr>\n",
       "<tr class=\"iris\">\n",
       "    <td class=\"iris-word-cell iris-subheading-cell\">\tmonth_number</td>\n",
       "    <td class=\"iris-word-cell\" colspan=\"2\">1</td>\n",
       "</tr>\n",
       "<tr class=\"iris\">\n",
       "    <td class=\"iris-word-cell iris-subheading-cell\">\ttime</td>\n",
       "    <td class=\"iris-word-cell\" colspan=\"2\">2000-01-16 12:00:00, bound=(2000-01-01 00:00:00, 2000-02-01 00:00:00)</td>\n",
       "</tr>\n",
       "<tr class=\"iris\">\n",
       "    <td class=\"iris-title iris-word-cell\">Attributes</td>\n",
       "    <td class=\"iris-title\"></td>\n",
       "    <td class=\"iris-title\"></td>\n",
       "</tr>\n",
       "<tr class=\"iris\">\n",
       "    <td class=\"iris-word-cell iris-subheading-cell\">\tCCCma_data_licence</td>\n",
       "    <td class=\"iris-word-cell\" colspan=\"2\">1) GRANT OF LICENCE - The Government of Canada (Environment Canada) is...</td>\n",
       "</tr>\n",
       "<tr class=\"iris\">\n",
       "    <td class=\"iris-word-cell iris-subheading-cell\">\tCCCma_parent_runid</td>\n",
       "    <td class=\"iris-word-cell\" colspan=\"2\">IGA</td>\n",
       "</tr>\n",
       "<tr class=\"iris\">\n",
       "    <td class=\"iris-word-cell iris-subheading-cell\">\tCCCma_runid</td>\n",
       "    <td class=\"iris-word-cell\" colspan=\"2\">IGM</td>\n",
       "</tr>\n",
       "<tr class=\"iris\">\n",
       "    <td class=\"iris-word-cell iris-subheading-cell\">\tConventions</td>\n",
       "    <td class=\"iris-word-cell\" colspan=\"2\">CF-1.7</td>\n",
       "</tr>\n",
       "<tr class=\"iris\">\n",
       "    <td class=\"iris-word-cell iris-subheading-cell\">\tassociated_files</td>\n",
       "    <td class=\"iris-word-cell\" colspan=\"2\">baseURL: http://cmip-pcmdi.llnl.gov/CMIP5/dataLocation gridspecFile: gridspec_atmos_fx_CanESM2_historical_r0i0p0.nc...</td>\n",
       "</tr>\n",
       "<tr class=\"iris\">\n",
       "    <td class=\"iris-word-cell iris-subheading-cell\">\tbranch_time</td>\n",
       "    <td class=\"iris-word-cell\" colspan=\"2\">171915.0</td>\n",
       "</tr>\n",
       "<tr class=\"iris\">\n",
       "    <td class=\"iris-word-cell iris-subheading-cell\">\tbranch_time_YMDH</td>\n",
       "    <td class=\"iris-word-cell\" colspan=\"2\">2321:01:01:00</td>\n",
       "</tr>\n",
       "<tr class=\"iris\">\n",
       "    <td class=\"iris-word-cell iris-subheading-cell\">\tcmor_version</td>\n",
       "    <td class=\"iris-word-cell\" colspan=\"2\">2.5.4</td>\n",
       "</tr>\n",
       "<tr class=\"iris\">\n",
       "    <td class=\"iris-word-cell iris-subheading-cell\">\tcontact</td>\n",
       "    <td class=\"iris-word-cell\" colspan=\"2\">cccma_info@ec.gc.ca</td>\n",
       "</tr>\n",
       "<tr class=\"iris\">\n",
       "    <td class=\"iris-word-cell iris-subheading-cell\">\texperiment</td>\n",
       "    <td class=\"iris-word-cell\" colspan=\"2\">historical</td>\n",
       "</tr>\n",
       "<tr class=\"iris\">\n",
       "    <td class=\"iris-word-cell iris-subheading-cell\">\texperiment_id</td>\n",
       "    <td class=\"iris-word-cell\" colspan=\"2\">historical</td>\n",
       "</tr>\n",
       "<tr class=\"iris\">\n",
       "    <td class=\"iris-word-cell iris-subheading-cell\">\tforcing</td>\n",
       "    <td class=\"iris-word-cell\" colspan=\"2\">GHG,Oz,SA,BC,OC,LU,Sl,Vl (GHG includes CO2,CH4,N2O,CFC11,effective CFC...</td>\n",
       "</tr>\n",
       "<tr class=\"iris\">\n",
       "    <td class=\"iris-word-cell iris-subheading-cell\">\tfrequency</td>\n",
       "    <td class=\"iris-word-cell\" colspan=\"2\">mon</td>\n",
       "</tr>\n",
       "<tr class=\"iris\">\n",
       "    <td class=\"iris-word-cell iris-subheading-cell\">\tinitialization_method</td>\n",
       "    <td class=\"iris-word-cell\" colspan=\"2\">1</td>\n",
       "</tr>\n",
       "<tr class=\"iris\">\n",
       "    <td class=\"iris-word-cell iris-subheading-cell\">\tinstitute_id</td>\n",
       "    <td class=\"iris-word-cell\" colspan=\"2\">CCCma</td>\n",
       "</tr>\n",
       "<tr class=\"iris\">\n",
       "    <td class=\"iris-word-cell iris-subheading-cell\">\tinstitution</td>\n",
       "    <td class=\"iris-word-cell\" colspan=\"2\">CCCma (Canadian Centre for Climate Modelling and Analysis, Victoria, BC,...</td>\n",
       "</tr>\n",
       "<tr class=\"iris\">\n",
       "    <td class=\"iris-word-cell iris-subheading-cell\">\tmodel_id</td>\n",
       "    <td class=\"iris-word-cell\" colspan=\"2\">CanESM2</td>\n",
       "</tr>\n",
       "<tr class=\"iris\">\n",
       "    <td class=\"iris-word-cell iris-subheading-cell\">\tmodeling_realm</td>\n",
       "    <td class=\"iris-word-cell\" colspan=\"2\">atmos</td>\n",
       "</tr>\n",
       "<tr class=\"iris\">\n",
       "    <td class=\"iris-word-cell iris-subheading-cell\">\toriginal_name</td>\n",
       "    <td class=\"iris-word-cell\" colspan=\"2\">ST</td>\n",
       "</tr>\n",
       "<tr class=\"iris\">\n",
       "    <td class=\"iris-word-cell iris-subheading-cell\">\tparent_experiment</td>\n",
       "    <td class=\"iris-word-cell\" colspan=\"2\">pre-industrial control</td>\n",
       "</tr>\n",
       "<tr class=\"iris\">\n",
       "    <td class=\"iris-word-cell iris-subheading-cell\">\tparent_experiment_id</td>\n",
       "    <td class=\"iris-word-cell\" colspan=\"2\">piControl</td>\n",
       "</tr>\n",
       "<tr class=\"iris\">\n",
       "    <td class=\"iris-word-cell iris-subheading-cell\">\tparent_experiment_rip</td>\n",
       "    <td class=\"iris-word-cell\" colspan=\"2\">r1i1p1</td>\n",
       "</tr>\n",
       "<tr class=\"iris\">\n",
       "    <td class=\"iris-word-cell iris-subheading-cell\">\tphysics_version</td>\n",
       "    <td class=\"iris-word-cell\" colspan=\"2\">1</td>\n",
       "</tr>\n",
       "<tr class=\"iris\">\n",
       "    <td class=\"iris-word-cell iris-subheading-cell\">\tproduct</td>\n",
       "    <td class=\"iris-word-cell\" colspan=\"2\">output</td>\n",
       "</tr>\n",
       "<tr class=\"iris\">\n",
       "    <td class=\"iris-word-cell iris-subheading-cell\">\tproject_id</td>\n",
       "    <td class=\"iris-word-cell\" colspan=\"2\">CMIP5</td>\n",
       "</tr>\n",
       "<tr class=\"iris\">\n",
       "    <td class=\"iris-word-cell iris-subheading-cell\">\trealization</td>\n",
       "    <td class=\"iris-word-cell\" colspan=\"2\">1</td>\n",
       "</tr>\n",
       "<tr class=\"iris\">\n",
       "    <td class=\"iris-word-cell iris-subheading-cell\">\treferences</td>\n",
       "    <td class=\"iris-word-cell\" colspan=\"2\">http://www.cccma.ec.gc.ca/models</td>\n",
       "</tr>\n",
       "<tr class=\"iris\">\n",
       "    <td class=\"iris-word-cell iris-subheading-cell\">\tsource</td>\n",
       "    <td class=\"iris-word-cell\" colspan=\"2\">CanESM2 2010 atmosphere: CanAM4 (AGCM15i, T63L35) ocean: CanOM4 (OGCM4.0,...</td>\n",
       "</tr>\n",
       "<tr class=\"iris\">\n",
       "    <td class=\"iris-word-cell iris-subheading-cell\">\ttable_id</td>\n",
       "    <td class=\"iris-word-cell\" colspan=\"2\">Table Amon (31 January 2011) 53b766a395ac41696af40aab76a49ae5</td>\n",
       "</tr>\n",
       "<tr class=\"iris\">\n",
       "    <td class=\"iris-word-cell iris-subheading-cell\">\ttitle</td>\n",
       "    <td class=\"iris-word-cell\" colspan=\"2\">CanESM2 model output prepared for CMIP5 historical</td>\n",
       "</tr>\n",
       "<tr class=\"iris\">\n",
       "    <td class=\"iris-title iris-word-cell\">Cell methods</td>\n",
       "    <td class=\"iris-title\"></td>\n",
       "    <td class=\"iris-title\"></td>\n",
       "</tr>\n",
       "<tr class=\"iris\">\n",
       "    <td class=\"iris-word-cell iris-subheading-cell\">\tmean</td>\n",
       "    <td class=\"iris-word-cell\" colspan=\"2\">time (15 minutes)</td>\n",
       "</tr>\n",
       "</table>\n",
       "        "
      ],
      "text/plain": [
       "<iris 'Cube' of air_temperature / (K) (latitude: 64; longitude: 128)>"
      ]
     },
     "execution_count": 10,
     "metadata": {},
     "output_type": "execute_result"
    }
   ],
   "source": [
    "data = output['map/tas'].data_files[1]\n",
    "cubes = data.load_iris()\n",
    "cubes[0]"
   ]
  },
  {
   "cell_type": "code",
   "execution_count": null,
   "metadata": {},
   "outputs": [],
   "source": []
  }
 ],
 "metadata": {
  "kernelspec": {
   "display_name": "esmvaltool",
   "language": "python",
   "name": "esmvaltool"
  },
  "language_info": {
   "codemirror_mode": {
    "name": "ipython",
    "version": 3
   },
   "file_extension": ".py",
   "mimetype": "text/x-python",
   "name": "python",
   "nbconvert_exporter": "python",
   "pygments_lexer": "ipython3",
   "version": "3.8.6"
  }
 },
 "nbformat": 4,
 "nbformat_minor": 4
}
