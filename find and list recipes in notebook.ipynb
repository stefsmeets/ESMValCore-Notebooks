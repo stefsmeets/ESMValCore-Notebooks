{
 "cells": [
  {
   "cell_type": "markdown",
   "metadata": {},
   "source": [
    "# Listing a recipe in a notebook\n",
    "\n",
    "The goal of this notebook is to demonstrate and test the functionality to list recipes, find recipes using some search patterns, and display nicely formatted recipe metadata in a Jupyter Notebook. See associated PR here: https://github.com/ESMValGroup/ESMValCore/pull/901"
   ]
  },
  {
   "cell_type": "code",
   "execution_count": 1,
   "metadata": {},
   "outputs": [],
   "source": [
    "%load_ext autoreload\n",
    "%autoreload 2"
   ]
  },
  {
   "cell_type": "markdown",
   "metadata": {},
   "source": [
    "## Getting a recipe\n",
    "\n",
    "Recipes can be obtained by their name, similar to what one may already be familiar with through `esmvaltool recipes list`. To do so, use `get_recipe`."
   ]
  },
  {
   "cell_type": "code",
   "execution_count": 2,
   "metadata": {},
   "outputs": [
    {
     "name": "stderr",
     "output_type": "stream",
     "text": [
      "/home/stef/r/esmvalcore/esmvalcore/experimental/__init__.py:5: UserWarning: \n",
      "  Thank you for trying out the new ESMValCore API.\n",
      "  Note that this API is experimental and may be subject to change.\n",
      "  More info: https://github.com/ESMValGroup/ESMValCore/issues/498\n",
      "/home/stef/r/esmvalcore/esmvalcore/experimental/config/_config_validators.py:251: ESMValToolDeprecationWarning: `write_plots` will be removed in 2.2.0.\n",
      "/home/stef/r/esmvalcore/esmvalcore/experimental/config/_config_validators.py:252: ESMValToolDeprecationWarning: `write_netcdf` will be removed in 2.2.0.\n",
      "/home/stef/r/esmvalcore/esmvalcore/experimental/config/_config_validators.py:253: ESMValToolDeprecationWarning: `output_file_type` will be removed in 2.2.0.\n",
      "/home/stef/r/esmvalcore/esmvalcore/experimental/config/_validated_config.py:81: MissingConfigParameter: `drs` is not defined (https://docs.esmvaltool.org/projects/ESMValCore/en/latest/quickstart/configure.html)\n",
      "/home/stef/r/esmvalcore/esmvalcore/experimental/config/_validated_config.py:81: MissingConfigParameter: `rootpath` is not defined (https://docs.esmvaltool.org/projects/ESMValCore/en/latest/quickstart/configure.html)\n"
     ]
    },
    {
     "data": {
      "text/markdown": [
       "## Recipe climwip\n",
       "\n",
       "EUCP ClimWIP\n",
       "\n",
       "### Authors\n",
       " - Peter Kalverla (NLeSC, Netherlands; https://orcid.org/0000-0002-5025-7862)\n",
       " - Stef Smeets (NLeSC, Netherlands; https://orcid.org/0000-0002-5413-9038)\n",
       " - Lukas Brunner (ETH Zurich, Switzerland; https://orcid.org/0000-0001-5760-4524)\n",
       " - Jaro Camphuijsen (NLeSC, Netherlands; https://orcid.org/0000-0002-8928-7831)\n",
       " - Ruth Lorenz (ETH Zurich, Switzerland; https://orcid.org/0000-0002-3986-1268)\n",
       "\n",
       "### Maintainers\n",
       " - Peter Kalverla (NLeSC, Netherlands; https://orcid.org/0000-0002-5025-7862)\n",
       " - Stef Smeets (NLeSC, Netherlands; https://orcid.org/0000-0002-5413-9038)\n",
       " - Lukas Brunner (ETH Zurich, Switzerland; https://orcid.org/0000-0001-5760-4524)\n",
       " - Ruth Lorenz (ETH Zurich, Switzerland; https://orcid.org/0000-0002-3986-1268)\n",
       "\n",
       "### References\n",
       " - Lukas Brunner, Ruth Lorenz, Marius Zumwald, and Reto Knutti\\.\n",
       "Quantifying uncertainty in european climate projections using combined performance\\-independence weighting\\.\n",
       "*Environmental Research Letters*, 14\\(12\\):124010, nov 2019\\.\n",
       "URL: [https://doi\\.org/10\\.1088%2F1748\\-9326%2Fab492f](https://doi.org/10.1088%2F1748-9326%2Fab492f), [doi:10\\.1088/1748\\-9326/ab492f](https://doi.org/10.1088/1748-9326/ab492f)\\.\n",
       " - Ruth Lorenz, Nadja Herger, Jan Sedláček, Veronika Eyring, Erich M\\. Fischer, and Reto Knutti\\.\n",
       "Prospects and caveats of weighting climate models for summer maximum temperature projections over north america\\.\n",
       "*Journal of Geophysical Research: Atmospheres*, 123\\(9\\):4509–4526, May 2018\\.\n",
       "URL: [https://doi\\.org/10\\.1029/2017jd027992](https://doi.org/10.1029/2017jd027992), [doi:10\\.1029/2017jd027992](https://doi.org/10.1029/2017jd027992)\\.\n",
       " - Reto Knutti, Jan Sedláček, Benjamin M\\. Sanderson, Ruth Lorenz, Erich M\\. Fischer, and Veronika Eyring\\.\n",
       "A climate model projection weighting scheme accounting for performance and interdependence\\.\n",
       "*Geophysical Research Letters*, 2017\\.\n",
       "URL: [https://doi\\.org/10\\.1002/2016gl072012](https://doi.org/10.1002/2016gl072012), [doi:10\\.1002/2016gl072012](https://doi.org/10.1002/2016gl072012)\\.\n"
      ],
      "text/plain": [
       "RecipeInfo('Recipe climwip')"
      ]
     },
     "execution_count": 2,
     "metadata": {},
     "output_type": "execute_result"
    }
   ],
   "source": [
    "from esmvalcore.experimental import get_recipe\n",
    "\n",
    "recipe = get_recipe('recipe_climwip')\n",
    "recipe"
   ]
  },
  {
   "cell_type": "markdown",
   "metadata": {},
   "source": [
    "## Recipe Info\n",
    "\n",
    "Notice how the recipe info above is nicely rendered in Jupyter with a little bit of IPython magic 🧙‍♂️. \n",
    "\n",
    "The recipes are loaded in a `RecipeInfo` object, which has information about the documentation, authors, project, and related references of the recipe. It resolves all the tags in the recipe, so that it knows which institute an author belongs to. It also writes out the references.\n",
    "\n",
    "To print the recipe as plain text, use `print` (which is the default in other environments)."
   ]
  },
  {
   "cell_type": "code",
   "execution_count": 3,
   "metadata": {},
   "outputs": [
    {
     "name": "stdout",
     "output_type": "stream",
     "text": [
      "## Recipe climwip\n",
      "\n",
      "EUCP ClimWIP\n",
      "\n",
      "### Contributors\n",
      " - Peter Kalverla (NLeSC, Netherlands; https://orcid.org/0000-0002-5025-7862)\n",
      " - Stef Smeets (NLeSC, Netherlands; https://orcid.org/0000-0002-5413-9038)\n",
      " - Lukas Brunner (ETH Zurich, Switzerland; https://orcid.org/0000-0001-5760-4524)\n",
      " - Jaro Camphuijsen (NLeSC, Netherlands; https://orcid.org/0000-0002-8928-7831)\n",
      " - Ruth Lorenz (ETH Zurich, Switzerland; https://orcid.org/0000-0002-3986-1268)\n",
      "\n",
      "### References\n",
      " - Lukas Brunner, Ruth Lorenz, Marius Zumwald, and Reto Knutti. Quantifying uncertainty in european climate projections using combined performance-independence weighting. Environmental Research Letters, 14(12):124010, nov 2019. URL: https://doi.org/10.1088%2F1748-9326%2Fab492f, doi:10.1088/1748-9326/ab492f.\n",
      " - Ruth Lorenz, Nadja Herger, Jan Sedláček, Veronika Eyring, Erich M. Fischer, and Reto Knutti. Prospects and caveats of weighting climate models for summer maximum temperature projections over north america. Journal of Geophysical Research: Atmospheres, 123(9):4509–4526, May 2018. URL: https://doi.org/10.1029/2017jd027992, doi:10.1029/2017jd027992.\n",
      " - Reto Knutti, Jan Sedláček, Benjamin M. Sanderson, Ruth Lorenz, Erich M. Fischer, and Veronika Eyring. A climate model projection weighting scheme accounting for performance and interdependence. Geophysical Research Letters, 2017. URL: https://doi.org/10.1002/2016gl072012, doi:10.1002/2016gl072012.\n",
      "\n"
     ]
    }
   ],
   "source": [
    "print(recipe)"
   ]
  },
  {
   "cell_type": "markdown",
   "metadata": {},
   "source": [
    "## List all recipes\n",
    "\n",
    "To examine a list of all recipes, use `get_all_recipes`. This will retrieve all recipes currently available in `ESMValTool`."
   ]
  },
  {
   "cell_type": "code",
   "execution_count": 4,
   "metadata": {
    "scrolled": true
   },
   "outputs": [
    {
     "data": {
      "text/plain": [
       "[RecipeInfo('Recipe perfmetrics cmip5 4cds'),\n",
       " RecipeInfo('Recipe martin18grl'),\n",
       " RecipeInfo('Recipe zmnam'),\n",
       " RecipeInfo('Recipe heatwaves coldwaves'),\n",
       " RecipeInfo('Recipe albedolandcover'),\n",
       " RecipeInfo('Recipe arctic ocean'),\n",
       " RecipeInfo('Recipe validation cmip6'),\n",
       " RecipeInfo('Recipe autoassess radiation rms cfmon all'),\n",
       " RecipeInfo('Recipe clouds ipcc'),\n",
       " RecipeInfo('Recipe seaice drift'),\n",
       " RecipeInfo('Recipe kcs'),\n",
       " RecipeInfo('Recipe autoassess radiation rms amon all'),\n",
       " RecipeInfo('Recipe ocean landschuetzer2016'),\n",
       " RecipeInfo('Recipe ocean scalar fields'),\n",
       " RecipeInfo('Recipe toymodel'),\n",
       " RecipeInfo('Recipe combined indices'),\n",
       " RecipeInfo('Recipe miles block'),\n",
       " RecipeInfo('Recipe clouds bias'),\n",
       " RecipeInfo('Recipe perfmetrics land cmip5'),\n",
       " RecipeInfo('Recipe climwip'),\n",
       " RecipeInfo('Recipe wenzel16nat'),\n",
       " RecipeInfo('Recipe ecs constraints'),\n",
       " RecipeInfo('Recipe snowalbedo'),\n",
       " RecipeInfo('Recipe hyint'),\n",
       " RecipeInfo('Recipe collins13ipcc'),\n",
       " RecipeInfo('Recipe wenzel14jgr'),\n",
       " RecipeInfo('Recipe seaice feedback'),\n",
       " RecipeInfo('Recipe li17natcc'),\n",
       " RecipeInfo('Recipe carvalhais14nat'),\n",
       " RecipeInfo('Recipe runoff et'),\n",
       " RecipeInfo('Recipe ocean example'),\n",
       " RecipeInfo('Recipe autoassess radiation rms amon obs'),\n",
       " RecipeInfo('Recipe lauer13jclim'),\n",
       " RecipeInfo('Recipe russell18jgr'),\n",
       " RecipeInfo('Recipe cvdp'),\n",
       " RecipeInfo('Recipe smpi'),\n",
       " RecipeInfo('Recipe anav13jclim'),\n",
       " RecipeInfo('Recipe williams09climdyn crem'),\n",
       " RecipeInfo('Recipe quantilebias'),\n",
       " RecipeInfo('Recipe ecs scatter'),\n",
       " RecipeInfo('Recipe miles regimes'),\n",
       " RecipeInfo('Recipe landcover'),\n",
       " RecipeInfo('Recipe flato13ipcc'),\n",
       " RecipeInfo('Recipe miles eof'),\n",
       " RecipeInfo('Recipe consecdrydays'),\n",
       " RecipeInfo('Recipe deangelis15nat'),\n",
       " RecipeInfo('Recipe spei'),\n",
       " RecipeInfo('Recipe thermodyn diagtool'),\n",
       " RecipeInfo('Recipe diurnal temperature index'),\n",
       " RecipeInfo('Recipe ecs'),\n",
       " RecipeInfo('Recipe multimodel products'),\n",
       " RecipeInfo('Recipe validation'),\n",
       " RecipeInfo('Recipe cox18nature'),\n",
       " RecipeInfo('Recipe eyring06jgr'),\n",
       " RecipeInfo('Recipe ocean amoc'),\n",
       " RecipeInfo('Recipe wenzel16jclim'),\n",
       " RecipeInfo('Recipe tcr'),\n",
       " RecipeInfo('Recipe seaice'),\n",
       " RecipeInfo('Recipe perfmetrics cmip5'),\n",
       " RecipeInfo('Recipe modes of variability'),\n",
       " RecipeInfo('Recipe hyint extreme events'),\n",
       " RecipeInfo('Recipe ocean bgc'),\n",
       " RecipeInfo('Recipe extreme index'),\n",
       " RecipeInfo('Recipe smpi 4cds'),\n",
       " RecipeInfo('Recipe shapeselect'),\n",
       " RecipeInfo('Recipe ensclus'),\n",
       " RecipeInfo('Recipe extreme events'),\n",
       " RecipeInfo('Recipe ocean quadmap'),\n",
       " RecipeInfo('Recipe autoassess stratosphere'),\n",
       " RecipeInfo('Recipe capacity factor'),\n",
       " RecipeInfo('Recipe ocean multimap'),\n",
       " RecipeInfo('Recipe ocean ice extent'),\n",
       " RecipeInfo('Recipe rainfarm'),\n",
       " RecipeInfo('Recipe schlund20jgr gpp change 1pct'),\n",
       " RecipeInfo('Recipe schlund20jgr gpp abs rcp85'),\n",
       " RecipeInfo('Recipe schlund20jgr gpp change rcp85'),\n",
       " RecipeInfo('Recipe r'),\n",
       " RecipeInfo('Recipe variable groups'),\n",
       " RecipeInfo('Recipe check obs'),\n",
       " RecipeInfo('Recipe my personal diagnostic'),\n",
       " RecipeInfo('Recipe concatenate exps'),\n",
       " RecipeInfo('Recipe julia'),\n",
       " RecipeInfo('Recipe extract shape'),\n",
       " RecipeInfo('Recipe ncl'),\n",
       " RecipeInfo('Recipe preprocessor test'),\n",
       " RecipeInfo('Recipe correlation'),\n",
       " RecipeInfo('Recipe preprocessor derive test'),\n",
       " RecipeInfo('Recipe python'),\n",
       " RecipeInfo('Recipe era5'),\n",
       " RecipeInfo('Recipe marrmot'),\n",
       " RecipeInfo('Recipe hype'),\n",
       " RecipeInfo('Recipe lisflood'),\n",
       " RecipeInfo('Recipe wflow'),\n",
       " RecipeInfo('Recipe pcrglobwb')]"
      ]
     },
     "execution_count": 4,
     "metadata": {},
     "output_type": "execute_result"
    }
   ],
   "source": [
    "from esmvalcore.experimental import get_all_recipes\n",
    "\n",
    "recipes = get_all_recipes()\n",
    "recipes"
   ]
  },
  {
   "cell_type": "markdown",
   "metadata": {},
   "source": [
    "The subdirectory can be specified to look for a specific group of recipes. For example, to get all the example recipes, use:"
   ]
  },
  {
   "cell_type": "code",
   "execution_count": 5,
   "metadata": {},
   "outputs": [
    {
     "data": {
      "text/plain": [
       "[RecipeInfo('Recipe r'),\n",
       " RecipeInfo('Recipe variable groups'),\n",
       " RecipeInfo('Recipe check obs'),\n",
       " RecipeInfo('Recipe my personal diagnostic'),\n",
       " RecipeInfo('Recipe concatenate exps'),\n",
       " RecipeInfo('Recipe julia'),\n",
       " RecipeInfo('Recipe extract shape'),\n",
       " RecipeInfo('Recipe ncl'),\n",
       " RecipeInfo('Recipe preprocessor test'),\n",
       " RecipeInfo('Recipe correlation'),\n",
       " RecipeInfo('Recipe preprocessor derive test'),\n",
       " RecipeInfo('Recipe python')]"
      ]
     },
     "execution_count": 5,
     "metadata": {},
     "output_type": "execute_result"
    }
   ],
   "source": [
    "example_recipes = get_all_recipes('examples')\n",
    "example_recipes"
   ]
  },
  {
   "cell_type": "markdown",
   "metadata": {},
   "source": [
    "To find a specific recipe, use the `.find` method on the recipe list. This takes a search query that looks through the recipe metadata and returns any matches. The query can be a regex pattern, so it can be as complex as needed!"
   ]
  },
  {
   "cell_type": "code",
   "execution_count": 6,
   "metadata": {
    "scrolled": false
   },
   "outputs": [
    {
     "data": {
      "text/plain": [
       "[RecipeInfo('Recipe martin18grl'),\n",
       " RecipeInfo('Recipe climwip'),\n",
       " RecipeInfo('Recipe ecs constraints'),\n",
       " RecipeInfo('Recipe ecs scatter'),\n",
       " RecipeInfo('Recipe ecs'),\n",
       " RecipeInfo('Recipe seaice')]"
      ]
     },
     "execution_count": 6,
     "metadata": {},
     "output_type": "execute_result"
    }
   ],
   "source": [
    "recipes.find('Geophysical Research Letters')"
   ]
  },
  {
   "cell_type": "code",
   "execution_count": 7,
   "metadata": {},
   "outputs": [
    {
     "data": {
      "text/plain": [
       "[RecipeInfo('Recipe kcs'),\n",
       " RecipeInfo('Recipe climwip'),\n",
       " RecipeInfo('Recipe extract shape'),\n",
       " RecipeInfo('Recipe preprocessor test'),\n",
       " RecipeInfo('Recipe correlation'),\n",
       " RecipeInfo('Recipe preprocessor derive test'),\n",
       " RecipeInfo('Recipe python'),\n",
       " RecipeInfo('Recipe era5'),\n",
       " RecipeInfo('Recipe marrmot'),\n",
       " RecipeInfo('Recipe hype'),\n",
       " RecipeInfo('Recipe lisflood'),\n",
       " RecipeInfo('Recipe wflow'),\n",
       " RecipeInfo('Recipe pcrglobwb')]"
      ]
     },
     "execution_count": 7,
     "metadata": {},
     "output_type": "execute_result"
    }
   ],
   "source": [
    "recipes.find('NLeSC')"
   ]
  },
  {
   "cell_type": "markdown",
   "metadata": {},
   "source": [
    "## Authors\n",
    "\n",
    "Author info can be retrieved from their TAG (as defined in `config-references.yml`)"
   ]
  },
  {
   "cell_type": "code",
   "execution_count": 8,
   "metadata": {},
   "outputs": [
    {
     "data": {
      "text/markdown": [
       "Mattia Righi (DLR, Germany; https://orcid.org/0000-0003-3827-5950)"
      ],
      "text/plain": [
       "Contributor('Mattia Righi', institute='DLR, Germany', orcid='https://orcid.org/0000-0003-3827-5950')"
      ]
     },
     "execution_count": 8,
     "metadata": {},
     "output_type": "execute_result"
    }
   ],
   "source": [
    "from esmvalcore.experimental.recipe_info import Contributor\n",
    "\n",
    "contributor = Contributor.from_tag('righi_mattia')\n",
    "contributor"
   ]
  },
  {
   "cell_type": "markdown",
   "metadata": {},
   "source": [
    "## Project\n",
    "\n",
    "Projects are also defined by their TAG (as defined in `config-references.yml`)"
   ]
  },
  {
   "cell_type": "code",
   "execution_count": 9,
   "metadata": {},
   "outputs": [
    {
     "data": {
      "text/plain": [
       "Project('DLR project ESMVal')"
      ]
     },
     "execution_count": 9,
     "metadata": {},
     "output_type": "execute_result"
    }
   ],
   "source": [
    "from esmvalcore.experimental.recipe_info import Project\n",
    "\n",
    "proj = Project.from_tag('esmval')\n",
    "proj"
   ]
  },
  {
   "cell_type": "markdown",
   "metadata": {},
   "source": [
    "## References\n",
    "\n",
    "References can be loaded using a filename, or using an ESMValTool tag. This uses the `pybtex` library (https://pybtex.org/)."
   ]
  },
  {
   "cell_type": "code",
   "execution_count": 10,
   "metadata": {},
   "outputs": [],
   "source": [
    "from esmvalcore.experimental.recipe_info import Reference\n",
    "\n",
    "ref = Reference.from_tag('sutanudjaja2018gmd')"
   ]
  },
  {
   "cell_type": "markdown",
   "metadata": {},
   "source": [
    "Using IPython magic, the reference renders in formatted html."
   ]
  },
  {
   "cell_type": "code",
   "execution_count": 11,
   "metadata": {},
   "outputs": [
    {
     "data": {
      "text/markdown": [
       "Edwin H\\. Sutanudjaja, Rens van Beek, Niko Wanders, Yoshihide Wada, Joyce H\\. C\\. Bosmans, Niels Drost, Ruud J\\. van der Ent, Inge E\\. M\\. de Graaf, Jannis M\\. Hoch, Kor de Jong, Derek Karssenberg, Patricia López López, Stefanie Peßenteiner, Oliver Schmitz, Menno W\\. Straatsma, Ekkamol Vannametee, Dominik Wisser, and Marc F\\. P\\. Bierkens\\.\n",
       "PCR\\-GLOBWB 2: a 5 arcmin global hydrological and water resources model\\.\n",
       "*Geoscientific Model Development*, 11\\(6\\):2429–2453, jun 2018\\.\n",
       "URL: [https://doi\\.org/10\\.5194%2Fgmd\\-11\\-2429\\-2018](https://doi.org/10.5194%2Fgmd-11-2429-2018), [doi:10\\.5194/gmd\\-11\\-2429\\-2018](https://doi.org/10.5194/gmd-11-2429-2018)\\."
      ],
      "text/plain": [
       "Reference('sutanudjaja2018gmd')"
      ]
     },
     "execution_count": 11,
     "metadata": {},
     "output_type": "execute_result"
    }
   ],
   "source": [
    "ref"
   ]
  },
  {
   "cell_type": "markdown",
   "metadata": {},
   "source": [
    "But in other environments, the plain text version is printed."
   ]
  },
  {
   "cell_type": "code",
   "execution_count": 12,
   "metadata": {},
   "outputs": [
    {
     "name": "stdout",
     "output_type": "stream",
     "text": [
      "Edwin H. Sutanudjaja, Rens van Beek, Niko Wanders, Yoshihide Wada, Joyce H. C. Bosmans, Niels Drost, Ruud J. van der Ent, Inge E. M. de Graaf, Jannis M. Hoch, Kor de Jong, Derek Karssenberg, Patricia López López, Stefanie Peßenteiner, Oliver Schmitz, Menno W. Straatsma, Ekkamol Vannametee, Dominik Wisser, and Marc F. P. Bierkens. PCR-GLOBWB 2: a 5 arcmin global hydrological and water resources model. Geoscientific Model Development, 11(6):2429–2453, jun 2018. URL: https://doi.org/10.5194%2Fgmd-11-2429-2018, doi:10.5194/gmd-11-2429-2018.\n"
     ]
    }
   ],
   "source": [
    "print(ref)"
   ]
  },
  {
   "cell_type": "code",
   "execution_count": null,
   "metadata": {},
   "outputs": [],
   "source": []
  }
 ],
 "metadata": {
  "kernelspec": {
   "display_name": "esmvaltool",
   "language": "python",
   "name": "esmvaltool"
  },
  "language_info": {
   "codemirror_mode": {
    "name": "ipython",
    "version": 3
   },
   "file_extension": ".py",
   "mimetype": "text/x-python",
   "name": "python",
   "nbconvert_exporter": "python",
   "pygments_lexer": "ipython3",
   "version": "3.8.5"
  }
 },
 "nbformat": 4,
 "nbformat_minor": 4
}
